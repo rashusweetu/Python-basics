{
 "cells": [
  {
   "cell_type": "code",
   "execution_count": 1,
   "id": "18841c29",
   "metadata": {},
   "outputs": [],
   "source": [
    "import numpy as np"
   ]
  },
  {
   "cell_type": "code",
   "execution_count": 2,
   "id": "9f30840d",
   "metadata": {},
   "outputs": [],
   "source": [
    "import numpy.ma as MA"
   ]
  },
  {
   "cell_type": "code",
   "execution_count": 6,
   "id": "147a4437",
   "metadata": {},
   "outputs": [
    {
     "ename": "NameError",
     "evalue": "name 'array' is not defined",
     "output_type": "error",
     "traceback": [
      "\u001b[1;31m---------------------------------------------------------------------------\u001b[0m",
      "\u001b[1;31mNameError\u001b[0m                                 Traceback (most recent call last)",
      "Cell \u001b[1;32mIn[6], line 1\u001b[0m\n\u001b[1;32m----> 1\u001b[0m arr2 \u001b[38;5;241m=\u001b[39m array\n",
      "\u001b[1;31mNameError\u001b[0m: name 'array' is not defined"
     ]
    }
   ],
   "source": [
    "arr2 = array"
   ]
  },
  {
   "cell_type": "code",
   "execution_count": 7,
   "id": "50eef381",
   "metadata": {},
   "outputs": [
    {
     "ename": "NameError",
     "evalue": "name 'array' is not defined",
     "output_type": "error",
     "traceback": [
      "\u001b[1;31m---------------------------------------------------------------------------\u001b[0m",
      "\u001b[1;31mNameError\u001b[0m                                 Traceback (most recent call last)",
      "Cell \u001b[1;32mIn[7], line 1\u001b[0m\n\u001b[1;32m----> 1\u001b[0m array ([[ \u001b[38;5;241m1\u001b[39m,  \u001b[38;5;241m9\u001b[39m, \u001b[38;5;241m21\u001b[39m],\n\u001b[0;32m      2\u001b[0m        [\u001b[38;5;241m29\u001b[39m, \u001b[38;5;241m41\u001b[39m, \u001b[38;5;241m51\u001b[39m],\n\u001b[0;32m      3\u001b[0m        [\u001b[38;5;241m58\u001b[39m, \u001b[38;5;241m72\u001b[39m,  \u001b[38;5;241m8\u001b[39m]])\n",
      "\u001b[1;31mNameError\u001b[0m: name 'array' is not defined"
     ]
    }
   ],
   "source": [
    "array ([[ 1,  9, 21],\n",
    "       [29, 41, 51],\n",
    "       [58, 72,  8]])"
   ]
  },
  {
   "cell_type": "code",
   "execution_count": 8,
   "id": "b858864a",
   "metadata": {},
   "outputs": [],
   "source": [
    "x = np.random.randint(100, size = 10)"
   ]
  },
  {
   "cell_type": "code",
   "execution_count": 9,
   "id": "7e5a8bb5",
   "metadata": {},
   "outputs": [
    {
     "data": {
      "text/plain": [
       "array([ 6, 47, 35,  1,  3, 74, 62, 56, 39, 22])"
      ]
     },
     "execution_count": 9,
     "metadata": {},
     "output_type": "execute_result"
    }
   ],
   "source": [
    "x"
   ]
  },
  {
   "cell_type": "code",
   "execution_count": 10,
   "id": "f22e7ea0",
   "metadata": {},
   "outputs": [
    {
     "data": {
      "text/plain": [
       "[1, 56, 35]"
      ]
     },
     "execution_count": 10,
     "metadata": {},
     "output_type": "execute_result"
    }
   ],
   "source": [
    " [x[3],x[7],x[2]]"
   ]
  },
  {
   "cell_type": "code",
   "execution_count": 11,
   "id": "033fdedd",
   "metadata": {},
   "outputs": [
    {
     "data": {
      "text/plain": [
       "array([ 1, 56,  3])"
      ]
     },
     "execution_count": 11,
     "metadata": {},
     "output_type": "execute_result"
    }
   ],
   "source": [
    "ind1 = [3,7,4]\n",
    "x[ind1]"
   ]
  },
  {
   "cell_type": "code",
   "execution_count": 12,
   "id": "3c72781e",
   "metadata": {},
   "outputs": [
    {
     "data": {
      "text/plain": [
       "array([[ 1, 56],\n",
       "       [ 3, 74]])"
      ]
     },
     "execution_count": 12,
     "metadata": {},
     "output_type": "execute_result"
    }
   ],
   "source": [
    "ind2 = np.array([[3,7],[4,5]])\n",
    "x[ind2]"
   ]
  },
  {
   "cell_type": "code",
   "execution_count": 13,
   "id": "7ddd6b68",
   "metadata": {},
   "outputs": [],
   "source": [
    "y = np.arange(12).reshape((3,4))"
   ]
  },
  {
   "cell_type": "code",
   "execution_count": 14,
   "id": "7a56a970",
   "metadata": {},
   "outputs": [
    {
     "data": {
      "text/plain": [
       "array([[ 0,  1,  2,  3],\n",
       "       [ 4,  5,  6,  7],\n",
       "       [ 8,  9, 10, 11]])"
      ]
     },
     "execution_count": 14,
     "metadata": {},
     "output_type": "execute_result"
    }
   ],
   "source": [
    "y"
   ]
  },
  {
   "cell_type": "code",
   "execution_count": 15,
   "id": "7d348373",
   "metadata": {},
   "outputs": [
    {
     "data": {
      "text/plain": [
       "array([ 2,  5, 11])"
      ]
     },
     "execution_count": 15,
     "metadata": {},
     "output_type": "execute_result"
    }
   ],
   "source": [
    "row =np.array([0,1,2])\n",
    "col = np.array([2,1,3])\n",
    "y[row,col]"
   ]
  },
  {
   "cell_type": "code",
   "execution_count": 16,
   "id": "7712e7fa",
   "metadata": {},
   "outputs": [
    {
     "data": {
      "text/plain": [
       "array([[ 2,  1,  3],\n",
       "       [ 6,  5,  7],\n",
       "       [10,  9, 11]])"
      ]
     },
     "execution_count": 16,
     "metadata": {},
     "output_type": "execute_result"
    }
   ],
   "source": [
    "y[row[:,np.newaxis],col]"
   ]
  },
  {
   "cell_type": "code",
   "execution_count": 17,
   "id": "025eca72",
   "metadata": {},
   "outputs": [
    {
     "data": {
      "text/plain": [
       "array([[ 6,  4,  7],\n",
       "       [10,  8, 11]])"
      ]
     },
     "execution_count": 17,
     "metadata": {},
     "output_type": "execute_result"
    }
   ],
   "source": [
    "y[1:,[2,0,3]]"
   ]
  },
  {
   "cell_type": "code",
   "execution_count": 18,
   "id": "1d3b19a3",
   "metadata": {},
   "outputs": [],
   "source": [
    "mask = np.array([0,0,1,0],dtype = bool)"
   ]
  },
  {
   "cell_type": "code",
   "execution_count": 19,
   "id": "6b780144",
   "metadata": {},
   "outputs": [
    {
     "data": {
      "text/plain": [
       "array([False, False,  True, False])"
      ]
     },
     "execution_count": 19,
     "metadata": {},
     "output_type": "execute_result"
    }
   ],
   "source": [
    "mask"
   ]
  },
  {
   "cell_type": "code",
   "execution_count": 20,
   "id": "34cb4df7",
   "metadata": {},
   "outputs": [
    {
     "data": {
      "text/plain": [
       "array([[ 0,  1,  2,  3],\n",
       "       [ 4,  5,  6,  7],\n",
       "       [ 8,  9, 10, 11]])"
      ]
     },
     "execution_count": 20,
     "metadata": {},
     "output_type": "execute_result"
    }
   ],
   "source": [
    "y"
   ]
  },
  {
   "cell_type": "code",
   "execution_count": 21,
   "id": "7e74e1ab",
   "metadata": {},
   "outputs": [
    {
     "data": {
      "text/plain": [
       "array([[ 2],\n",
       "       [ 6],\n",
       "       [10]])"
      ]
     },
     "execution_count": 21,
     "metadata": {},
     "output_type": "execute_result"
    }
   ],
   "source": [
    "y[row[:,np.newaxis],mask]"
   ]
  },
  {
   "cell_type": "code",
   "execution_count": 22,
   "id": "0993c3b6",
   "metadata": {},
   "outputs": [
    {
     "name": "stdout",
     "output_type": "stream",
     "text": [
      "[ 0 -9 -8  3 -6  5  6  7 -2  9]\n"
     ]
    }
   ],
   "source": [
    "a = np.arange(10)\n",
    "i = np.array([2,1,8,4])\n",
    "##a[i] = 99\n",
    "a[i] -= 10\n",
    "print(a)"
   ]
  },
  {
   "cell_type": "code",
   "execution_count": 23,
   "id": "902758f9",
   "metadata": {},
   "outputs": [],
   "source": [
    "array_name = np.array(['pine-apple','banana','fig'])"
   ]
  },
  {
   "cell_type": "code",
   "execution_count": 24,
   "id": "60f64053",
   "metadata": {},
   "outputs": [
    {
     "data": {
      "text/plain": [
       "array(['pine-apple', 'banana', 'fig'], dtype='<U10')"
      ]
     },
     "execution_count": 24,
     "metadata": {},
     "output_type": "execute_result"
    }
   ],
   "source": [
    "array_name"
   ]
  },
  {
   "cell_type": "code",
   "execution_count": 25,
   "id": "05b51f40",
   "metadata": {},
   "outputs": [
    {
     "name": "stdout",
     "output_type": "stream",
     "text": [
      "['banana' 'fig' 'pine-apple']\n"
     ]
    }
   ],
   "source": [
    "print(np.sort(array_name))"
   ]
  },
  {
   "cell_type": "code",
   "execution_count": 26,
   "id": "7286ec50",
   "metadata": {},
   "outputs": [],
   "source": [
    "import numpy as np"
   ]
  },
  {
   "cell_type": "code",
   "execution_count": 27,
   "id": "8ca033a4",
   "metadata": {},
   "outputs": [],
   "source": [
    "a1 = np.array([('Anand',2022,8.88),('Anil',2021,9.88) ,('Shubham',2020,8.90)],\n",
    "              dtype = [('name',(np.str_,10)),('year',np.int32),('cgpa',np.float64)])"
   ]
  },
  {
   "cell_type": "code",
   "execution_count": 28,
   "id": "45e9d32e",
   "metadata": {},
   "outputs": [
    {
     "name": "stdout",
     "output_type": "stream",
     "text": [
      "[('Anand', 2022, 8.88) ('Anil', 2021, 9.88) ('Shubham', 2020, 8.9 )]\n"
     ]
    }
   ],
   "source": [
    "print(a1)"
   ]
  },
  {
   "cell_type": "code",
   "execution_count": 30,
   "id": "d64234e2",
   "metadata": {},
   "outputs": [
    {
     "ename": "NameError",
     "evalue": "name 'shubham' is not defined",
     "output_type": "error",
     "traceback": [
      "\u001b[1;31m---------------------------------------------------------------------------\u001b[0m",
      "\u001b[1;31mNameError\u001b[0m                                 Traceback (most recent call last)",
      "Cell \u001b[1;32mIn[30], line 1\u001b[0m\n\u001b[1;32m----> 1\u001b[0m a1 \u001b[38;5;241m=\u001b[39m shubham\u001b[38;5;241m.\u001b[39mname\n",
      "\u001b[1;31mNameError\u001b[0m: name 'shubham' is not defined"
     ]
    }
   ],
   "source": [
    "a1 = name"
   ]
  },
  {
   "cell_type": "code",
   "execution_count": 33,
   "id": "8a871a10",
   "metadata": {},
   "outputs": [
    {
     "ename": "SyntaxError",
     "evalue": "invalid syntax (103903860.py, line 1)",
     "output_type": "error",
     "traceback": [
      "\u001b[1;36m  Cell \u001b[1;32mIn[33], line 1\u001b[1;36m\u001b[0m\n\u001b[1;33m    a1[a1.'name'='shubham']\u001b[0m\n\u001b[1;37m          ^\u001b[0m\n\u001b[1;31mSyntaxError\u001b[0m\u001b[1;31m:\u001b[0m invalid syntax\n"
     ]
    }
   ],
   "source": [
    "a1[a1.'name'='shubham']"
   ]
  },
  {
   "cell_type": "code",
   "execution_count": null,
   "id": "596958c9",
   "metadata": {},
   "outputs": [],
   "source": []
  }
 ],
 "metadata": {
  "kernelspec": {
   "display_name": "Python 3 (ipykernel)",
   "language": "python",
   "name": "python3"
  },
  "language_info": {
   "codemirror_mode": {
    "name": "ipython",
    "version": 3
   },
   "file_extension": ".py",
   "mimetype": "text/x-python",
   "name": "python",
   "nbconvert_exporter": "python",
   "pygments_lexer": "ipython3",
   "version": "3.11.4"
  }
 },
 "nbformat": 4,
 "nbformat_minor": 5
}
