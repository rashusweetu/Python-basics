{
 "cells": [
  {
   "cell_type": "code",
   "execution_count": 1,
   "id": "1e48325c",
   "metadata": {},
   "outputs": [
    {
     "data": {
      "text/plain": [
       "str"
      ]
     },
     "execution_count": 1,
     "metadata": {},
     "output_type": "execute_result"
    }
   ],
   "source": [
    "type(\"hello world\")"
   ]
  },
  {
   "cell_type": "code",
   "execution_count": 1,
   "id": "7c584ee2",
   "metadata": {},
   "outputs": [],
   "source": [
    "import numpy as np"
   ]
  },
  {
   "cell_type": "code",
   "execution_count": 2,
   "id": "433458e5",
   "metadata": {},
   "outputs": [],
   "source": [
    "array1 = np.array([11,21,31,41,49])"
   ]
  },
  {
   "cell_type": "code",
   "execution_count": 3,
   "id": "febf6eb1",
   "metadata": {},
   "outputs": [
    {
     "data": {
      "text/plain": [
       "array([11, 21, 31, 41, 49])"
      ]
     },
     "execution_count": 3,
     "metadata": {},
     "output_type": "execute_result"
    }
   ],
   "source": [
    "array1"
   ]
  },
  {
   "cell_type": "code",
   "execution_count": 5,
   "id": "60006274",
   "metadata": {},
   "outputs": [],
   "source": [
    "array2 = np.array([[1,9,21],[29,41,51],[58,72,8]])"
   ]
  },
  {
   "cell_type": "code",
   "execution_count": 6,
   "id": "dd7295a8",
   "metadata": {},
   "outputs": [
    {
     "data": {
      "text/plain": [
       "array([[ 1,  9, 21],\n",
       "       [29, 41, 51],\n",
       "       [58, 72,  8]])"
      ]
     },
     "execution_count": 6,
     "metadata": {},
     "output_type": "execute_result"
    }
   ],
   "source": [
    "array2"
   ]
  },
  {
   "cell_type": "code",
   "execution_count": 8,
   "id": "970f0843",
   "metadata": {},
   "outputs": [],
   "source": [
    "array3 = np.array([[15,7,10,-11,20,75],[-3,9,24,1,100,-14]])"
   ]
  },
  {
   "cell_type": "code",
   "execution_count": 9,
   "id": "4e616037",
   "metadata": {},
   "outputs": [
    {
     "data": {
      "text/plain": [
       "array([[ 15,   7,  10, -11,  20,  75],\n",
       "       [ -3,   9,  24,   1, 100, -14]])"
      ]
     },
     "execution_count": 9,
     "metadata": {},
     "output_type": "execute_result"
    }
   ],
   "source": [
    "array3"
   ]
  },
  {
   "cell_type": "code",
   "execution_count": 11,
   "id": "eeab3bf2",
   "metadata": {},
   "outputs": [
    {
     "data": {
      "text/plain": [
       "290"
      ]
     },
     "execution_count": 11,
     "metadata": {},
     "output_type": "execute_result"
    }
   ],
   "source": [
    "array2.sum()"
   ]
  },
  {
   "cell_type": "code",
   "execution_count": 12,
   "id": "eb9757c9",
   "metadata": {},
   "outputs": [
    {
     "data": {
      "text/plain": [
       "array([ 88, 122,  80])"
      ]
     },
     "execution_count": 12,
     "metadata": {},
     "output_type": "execute_result"
    }
   ],
   "source": [
    "array2.sum(axis=0)"
   ]
  },
  {
   "cell_type": "raw",
   "id": "6daea864",
   "metadata": {},
   "source": []
  },
  {
   "cell_type": "code",
   "execution_count": 13,
   "id": "38466517",
   "metadata": {},
   "outputs": [
    {
     "data": {
      "text/plain": [
       "array([ 31, 121, 138])"
      ]
     },
     "execution_count": 13,
     "metadata": {},
     "output_type": "execute_result"
    }
   ],
   "source": [
    "array2.sum(axis=1)"
   ]
  },
  {
   "cell_type": "code",
   "execution_count": 14,
   "id": "7ab4c73f",
   "metadata": {},
   "outputs": [
    {
     "data": {
      "text/plain": [
       "32.22222222222222"
      ]
     },
     "execution_count": 14,
     "metadata": {},
     "output_type": "execute_result"
    }
   ],
   "source": [
    "np.average(array2)"
   ]
  },
  {
   "cell_type": "code",
   "execution_count": 16,
   "id": "98eb7db9",
   "metadata": {},
   "outputs": [
    {
     "data": {
      "text/plain": [
       "array([19.33333333, 19.5       ])"
      ]
     },
     "execution_count": 16,
     "metadata": {},
     "output_type": "execute_result"
    }
   ],
   "source": [
    "np.average(array3,axis=1)"
   ]
  },
  {
   "cell_type": "code",
   "execution_count": 17,
   "id": "a436482a",
   "metadata": {},
   "outputs": [
    {
     "data": {
      "text/plain": [
       "array([ 6. ,  8. , 17. , -5. , 60. , 30.5])"
      ]
     },
     "execution_count": 17,
     "metadata": {},
     "output_type": "execute_result"
    }
   ],
   "source": [
    "np.average(array3,axis=0)"
   ]
  },
  {
   "cell_type": "code",
   "execution_count": 19,
   "id": "91ddc7a1",
   "metadata": {},
   "outputs": [
    {
     "data": {
      "text/plain": [
       "1"
      ]
     },
     "execution_count": 19,
     "metadata": {},
     "output_type": "execute_result"
    }
   ],
   "source": [
    "array2.min()"
   ]
  },
  {
   "cell_type": "code",
   "execution_count": 20,
   "id": "b2541972",
   "metadata": {},
   "outputs": [
    {
     "data": {
      "text/plain": [
       "19.416666666666668"
      ]
     },
     "execution_count": 20,
     "metadata": {},
     "output_type": "execute_result"
    }
   ],
   "source": [
    "array3.mean()"
   ]
  },
  {
   "cell_type": "code",
   "execution_count": 21,
   "id": "2f98aef8",
   "metadata": {},
   "outputs": [
    {
     "data": {
      "text/plain": [
       "array([19.33333333, 19.5       ])"
      ]
     },
     "execution_count": 21,
     "metadata": {},
     "output_type": "execute_result"
    }
   ],
   "source": [
    "array3.mean(1)"
   ]
  },
  {
   "cell_type": "code",
   "execution_count": 1,
   "id": "79ae9867",
   "metadata": {},
   "outputs": [
    {
     "ename": "NameError",
     "evalue": "name 'np' is not defined",
     "output_type": "error",
     "traceback": [
      "\u001b[1;31m---------------------------------------------------------------------------\u001b[0m",
      "\u001b[1;31mNameError\u001b[0m                                 Traceback (most recent call last)",
      "Cell \u001b[1;32mIn[1], line 1\u001b[0m\n\u001b[1;32m----> 1\u001b[0m a1\u001b[38;5;241m=\u001b[39mnp\u001b[38;5;241m.\u001b[39marray([\u001b[38;5;241m1\u001b[39m,\u001b[38;5;241m3\u001b[39m,\u001b[38;5;241m5\u001b[39m,\u001b[38;5;241m7\u001b[39m])\n\u001b[0;32m      2\u001b[0m b1\u001b[38;5;241m=\u001b[39mnp\u001b[38;5;241m.\u001b[39marray([\u001b[38;5;241m90\u001b[39m,\u001b[38;5;241m50\u001b[39m,\u001b[38;5;241m0\u001b[39m,\u001b[38;5;241m30\u001b[39m])\n",
      "\u001b[1;31mNameError\u001b[0m: name 'np' is not defined"
     ]
    }
   ],
   "source": [
    "a1=np.array([1,3,5,7])\n",
    "b1=np.array([90,50,0,30])"
   ]
  },
  {
   "cell_type": "code",
   "execution_count": 3,
   "id": "e846a897",
   "metadata": {},
   "outputs": [],
   "source": [
    "import numpy as np"
   ]
  },
  {
   "cell_type": "code",
   "execution_count": 4,
   "id": "67ee9dc1",
   "metadata": {},
   "outputs": [],
   "source": [
    "a1 = np.array([1,3,7,5])\n",
    "b1 = np.array([90,50,0,30])"
   ]
  },
  {
   "cell_type": "code",
   "execution_count": 5,
   "id": "f58f3218",
   "metadata": {},
   "outputs": [],
   "source": [
    "c1 = a1+b1"
   ]
  },
  {
   "cell_type": "code",
   "execution_count": 6,
   "id": "c04cada1",
   "metadata": {},
   "outputs": [
    {
     "data": {
      "text/plain": [
       "array([91, 53,  7, 35])"
      ]
     },
     "execution_count": 6,
     "metadata": {},
     "output_type": "execute_result"
    }
   ],
   "source": [
    "c1"
   ]
  },
  {
   "cell_type": "code",
   "execution_count": 7,
   "id": "ecb8b45d",
   "metadata": {},
   "outputs": [],
   "source": [
    "a1 = np.array([[12,33,24], [11,21,31]])"
   ]
  },
  {
   "cell_type": "code",
   "execution_count": 8,
   "id": "8086fabf",
   "metadata": {},
   "outputs": [
    {
     "data": {
      "text/plain": [
       "array([[12, 33, 24],\n",
       "       [11, 21, 31]])"
      ]
     },
     "execution_count": 8,
     "metadata": {},
     "output_type": "execute_result"
    }
   ],
   "source": [
    "a1"
   ]
  },
  {
   "cell_type": "code",
   "execution_count": 9,
   "id": "e7f83c08",
   "metadata": {},
   "outputs": [],
   "source": [
    "b1 =4"
   ]
  },
  {
   "cell_type": "code",
   "execution_count": 10,
   "id": "8bab91af",
   "metadata": {},
   "outputs": [
    {
     "data": {
      "text/plain": [
       "4"
      ]
     },
     "execution_count": 10,
     "metadata": {},
     "output_type": "execute_result"
    }
   ],
   "source": [
    "b1"
   ]
  },
  {
   "cell_type": "code",
   "execution_count": 11,
   "id": "d272594d",
   "metadata": {},
   "outputs": [],
   "source": [
    "c1 =a1+b1"
   ]
  },
  {
   "cell_type": "code",
   "execution_count": 12,
   "id": "3155435a",
   "metadata": {},
   "outputs": [
    {
     "data": {
      "text/plain": [
       "array([[16, 37, 28],\n",
       "       [15, 25, 35]])"
      ]
     },
     "execution_count": 12,
     "metadata": {},
     "output_type": "execute_result"
    }
   ],
   "source": [
    "c1"
   ]
  },
  {
   "cell_type": "code",
   "execution_count": 13,
   "id": "606d04f1",
   "metadata": {},
   "outputs": [],
   "source": [
    "arr_random = np.random.randint(10, 50, size = (5, 8))"
   ]
  },
  {
   "cell_type": "code",
   "execution_count": 14,
   "id": "0401ec9d",
   "metadata": {},
   "outputs": [
    {
     "data": {
      "text/plain": [
       "array([[47, 22, 26, 47, 25, 49, 36, 30],\n",
       "       [44, 33, 10, 44, 36, 18, 36, 25],\n",
       "       [38, 27, 18, 37, 16, 29, 18, 15],\n",
       "       [30, 46, 42, 41, 49, 47, 32, 29],\n",
       "       [12, 12, 13, 11, 43, 44, 45, 30]])"
      ]
     },
     "execution_count": 14,
     "metadata": {},
     "output_type": "execute_result"
    }
   ],
   "source": [
    "arr_random"
   ]
  },
  {
   "cell_type": "code",
   "execution_count": 15,
   "id": "57b20a99",
   "metadata": {},
   "outputs": [
    {
     "data": {
      "text/plain": [
       "2"
      ]
     },
     "execution_count": 15,
     "metadata": {},
     "output_type": "execute_result"
    }
   ],
   "source": [
    "arr_random.ndim"
   ]
  },
  {
   "cell_type": "code",
   "execution_count": 18,
   "id": "37f2285e",
   "metadata": {},
   "outputs": [],
   "source": [
    "import numpy as np"
   ]
  },
  {
   "cell_type": "code",
   "execution_count": 22,
   "id": "9954d013",
   "metadata": {},
   "outputs": [],
   "source": [
    "arr2_random = np.random.randint(1,20, size = (3,6,4))"
   ]
  },
  {
   "cell_type": "code",
   "execution_count": 23,
   "id": "72c8ab82",
   "metadata": {},
   "outputs": [
    {
     "data": {
      "text/plain": [
       "array([[[17,  4,  7,  6],\n",
       "        [16,  6,  9,  5],\n",
       "        [16, 10, 17,  2],\n",
       "        [16, 15,  9,  9],\n",
       "        [10, 10,  2,  4],\n",
       "        [ 5,  6,  2,  2]],\n",
       "\n",
       "       [[17, 18,  7,  3],\n",
       "        [ 4, 10, 13,  9],\n",
       "        [ 1, 11, 14, 19],\n",
       "        [ 4, 16,  3, 14],\n",
       "        [16,  3, 10,  1],\n",
       "        [ 6, 17, 18, 10]],\n",
       "\n",
       "       [[19,  3, 10, 10],\n",
       "        [19, 16, 14,  7],\n",
       "        [ 8, 10,  1,  5],\n",
       "        [10,  6,  7,  3],\n",
       "        [ 3, 17, 11,  3],\n",
       "        [ 4, 18, 18, 16]]])"
      ]
     },
     "execution_count": 23,
     "metadata": {},
     "output_type": "execute_result"
    }
   ],
   "source": [
    "arr2_random"
   ]
  },
  {
   "cell_type": "code",
   "execution_count": 24,
   "id": "649ba3c4",
   "metadata": {},
   "outputs": [],
   "source": [
    "a = np.array([0,2,3,0,1,6,5,2])"
   ]
  },
  {
   "cell_type": "code",
   "execution_count": 25,
   "id": "56c73fc3",
   "metadata": {},
   "outputs": [
    {
     "data": {
      "text/plain": [
       "array([False, False,  True, False, False,  True,  True, False])"
      ]
     },
     "execution_count": 25,
     "metadata": {},
     "output_type": "execute_result"
    }
   ],
   "source": [
    "np.greater(a,2)"
   ]
  },
  {
   "cell_type": "code",
   "execution_count": 26,
   "id": "4696588e",
   "metadata": {},
   "outputs": [
    {
     "data": {
      "text/plain": [
       "array([False,  True,  True, False, False,  True,  True,  True])"
      ]
     },
     "execution_count": 26,
     "metadata": {},
     "output_type": "execute_result"
    }
   ],
   "source": [
    "np.greater_equal(a,2)"
   ]
  },
  {
   "cell_type": "code",
   "execution_count": 27,
   "id": "8041f3b0",
   "metadata": {},
   "outputs": [
    {
     "ename": "AttributeError",
     "evalue": "module 'numpy' has no attribute 'arrange'",
     "output_type": "error",
     "traceback": [
      "\u001b[1;31m---------------------------------------------------------------------------\u001b[0m",
      "\u001b[1;31mAttributeError\u001b[0m                            Traceback (most recent call last)",
      "Cell \u001b[1;32mIn[27], line 1\u001b[0m\n\u001b[1;32m----> 1\u001b[0m a \u001b[38;5;241m=\u001b[39m np\u001b[38;5;241m.\u001b[39mreshape(np\u001b[38;5;241m.\u001b[39marrange(\u001b[38;5;241m25\u001b[39m),(\u001b[38;5;241m5\u001b[39m,\u001b[38;5;241m5\u001b[39m))\n",
      "File \u001b[1;32m~\\anaconda3\\Lib\\site-packages\\numpy\\__init__.py:320\u001b[0m, in \u001b[0;36m__getattr__\u001b[1;34m(attr)\u001b[0m\n\u001b[0;32m    317\u001b[0m     \u001b[38;5;28;01mfrom\u001b[39;00m \u001b[38;5;21;01m.\u001b[39;00m\u001b[38;5;21;01mtesting\u001b[39;00m \u001b[38;5;28;01mimport\u001b[39;00m Tester\n\u001b[0;32m    318\u001b[0m     \u001b[38;5;28;01mreturn\u001b[39;00m Tester\n\u001b[1;32m--> 320\u001b[0m \u001b[38;5;28;01mraise\u001b[39;00m \u001b[38;5;167;01mAttributeError\u001b[39;00m(\u001b[38;5;124m\"\u001b[39m\u001b[38;5;124mmodule \u001b[39m\u001b[38;5;132;01m{!r}\u001b[39;00m\u001b[38;5;124m has no attribute \u001b[39m\u001b[38;5;124m\"\u001b[39m\n\u001b[0;32m    321\u001b[0m                      \u001b[38;5;124m\"\u001b[39m\u001b[38;5;132;01m{!r}\u001b[39;00m\u001b[38;5;124m\"\u001b[39m\u001b[38;5;241m.\u001b[39mformat(\u001b[38;5;18m__name__\u001b[39m, attr))\n",
      "\u001b[1;31mAttributeError\u001b[0m: module 'numpy' has no attribute 'arrange'"
     ]
    }
   ],
   "source": [
    "a = np.reshape(np.arrange(25),(5,5))"
   ]
  },
  {
   "cell_type": "code",
   "execution_count": 28,
   "id": "e26fc8bd",
   "metadata": {},
   "outputs": [],
   "source": [
    "a =np.reshape(np.arange(25),(5,5))"
   ]
  },
  {
   "cell_type": "code",
   "execution_count": 29,
   "id": "23781785",
   "metadata": {},
   "outputs": [
    {
     "data": {
      "text/plain": [
       "array([[ 0,  1,  2,  3,  4],\n",
       "       [ 5,  6,  7,  8,  9],\n",
       "       [10, 11, 12, 13, 14],\n",
       "       [15, 16, 17, 18, 19],\n",
       "       [20, 21, 22, 23, 24]])"
      ]
     },
     "execution_count": 29,
     "metadata": {},
     "output_type": "execute_result"
    }
   ],
   "source": [
    "a"
   ]
  },
  {
   "cell_type": "code",
   "execution_count": 30,
   "id": "2abe1c23",
   "metadata": {},
   "outputs": [],
   "source": [
    "greater_values = (a>10)"
   ]
  },
  {
   "cell_type": "code",
   "execution_count": 31,
   "id": "702c547d",
   "metadata": {},
   "outputs": [
    {
     "data": {
      "text/plain": [
       "array([[False, False, False, False, False],\n",
       "       [False, False, False, False, False],\n",
       "       [False,  True,  True,  True,  True],\n",
       "       [ True,  True,  True,  True,  True],\n",
       "       [ True,  True,  True,  True,  True]])"
      ]
     },
     "execution_count": 31,
     "metadata": {},
     "output_type": "execute_result"
    }
   ],
   "source": [
    "greater_values"
   ]
  },
  {
   "cell_type": "code",
   "execution_count": 32,
   "id": "be95092a",
   "metadata": {},
   "outputs": [],
   "source": [
    "even_values = (a%2==0)\n",
    "odd_values = (a%2==0)"
   ]
  },
  {
   "cell_type": "code",
   "execution_count": 33,
   "id": "191982eb",
   "metadata": {},
   "outputs": [
    {
     "data": {
      "text/plain": [
       "(array([[ True, False,  True, False,  True],\n",
       "        [False,  True, False,  True, False],\n",
       "        [ True, False,  True, False,  True],\n",
       "        [False,  True, False,  True, False],\n",
       "        [ True, False,  True, False,  True]]),\n",
       " array([[ True, False,  True, False,  True],\n",
       "        [False,  True, False,  True, False],\n",
       "        [ True, False,  True, False,  True],\n",
       "        [False,  True, False,  True, False],\n",
       "        [ True, False,  True, False,  True]]))"
      ]
     },
     "execution_count": 33,
     "metadata": {},
     "output_type": "execute_result"
    }
   ],
   "source": [
    "even_values,odd_values"
   ]
  },
  {
   "cell_type": "code",
   "execution_count": 34,
   "id": "a0a50c6d",
   "metadata": {},
   "outputs": [],
   "source": [
    "b = ~(a%10==0)"
   ]
  },
  {
   "cell_type": "code",
   "execution_count": 35,
   "id": "58eea528",
   "metadata": {},
   "outputs": [
    {
     "data": {
      "text/plain": [
       "array([[False,  True,  True,  True,  True],\n",
       "       [ True,  True,  True,  True,  True],\n",
       "       [False,  True,  True,  True,  True],\n",
       "       [ True,  True,  True,  True,  True],\n",
       "       [False,  True,  True,  True,  True]])"
      ]
     },
     "execution_count": 35,
     "metadata": {},
     "output_type": "execute_result"
    }
   ],
   "source": [
    "b"
   ]
  },
  {
   "cell_type": "code",
   "execution_count": 36,
   "id": "734e36c9",
   "metadata": {},
   "outputs": [],
   "source": [
    "c= (a%2==0) | (a%3==0)"
   ]
  },
  {
   "cell_type": "code",
   "execution_count": 37,
   "id": "1f8c6c8f",
   "metadata": {},
   "outputs": [
    {
     "data": {
      "text/plain": [
       "array([[ True, False,  True,  True,  True],\n",
       "       [False,  True, False,  True,  True],\n",
       "       [ True, False,  True, False,  True],\n",
       "       [ True,  True, False,  True, False],\n",
       "       [ True,  True,  True, False,  True]])"
      ]
     },
     "execution_count": 37,
     "metadata": {},
     "output_type": "execute_result"
    }
   ],
   "source": [
    "c"
   ]
  },
  {
   "cell_type": "code",
   "execution_count": 38,
   "id": "0db76898",
   "metadata": {},
   "outputs": [],
   "source": [
    "import numpy as np\n",
    "import numpy.ma as MA"
   ]
  },
  {
   "cell_type": "code",
   "execution_count": 39,
   "id": "a03da765",
   "metadata": {},
   "outputs": [],
   "source": [
    "array = np.zeros((4,4),dtype = int)"
   ]
  },
  {
   "cell_type": "code",
   "execution_count": 40,
   "id": "b3702005",
   "metadata": {},
   "outputs": [
    {
     "data": {
      "text/plain": [
       "array([[0, 0, 0, 0],\n",
       "       [0, 0, 0, 0],\n",
       "       [0, 0, 0, 0],\n",
       "       [0, 0, 0, 0]])"
      ]
     },
     "execution_count": 40,
     "metadata": {},
     "output_type": "execute_result"
    }
   ],
   "source": [
    "array"
   ]
  },
  {
   "cell_type": "code",
   "execution_count": 41,
   "id": "a28fa763",
   "metadata": {},
   "outputs": [
    {
     "ename": "SyntaxError",
     "evalue": "cannot assign to literal (2475691157.py, line 1)",
     "output_type": "error",
     "traceback": [
      "\u001b[1;36m  Cell \u001b[1;32mIn[41], line 1\u001b[1;36m\u001b[0m\n\u001b[1;33m    array = [2,2] =1\u001b[0m\n\u001b[1;37m             ^\u001b[0m\n\u001b[1;31mSyntaxError\u001b[0m\u001b[1;31m:\u001b[0m cannot assign to literal\n"
     ]
    }
   ],
   "source": [
    "array = [2,2] =1"
   ]
  },
  {
   "cell_type": "code",
   "execution_count": 42,
   "id": "6c49d148",
   "metadata": {},
   "outputs": [],
   "source": [
    "array[2,2] = 1"
   ]
  },
  {
   "cell_type": "code",
   "execution_count": 43,
   "id": "cc3029ec",
   "metadata": {},
   "outputs": [
    {
     "data": {
      "text/plain": [
       "array([[0, 0, 0, 0],\n",
       "       [0, 0, 0, 0],\n",
       "       [0, 0, 1, 0],\n",
       "       [0, 0, 0, 0]])"
      ]
     },
     "execution_count": 43,
     "metadata": {},
     "output_type": "execute_result"
    }
   ],
   "source": [
    "array"
   ]
  },
  {
   "cell_type": "code",
   "execution_count": 44,
   "id": "01d64df0",
   "metadata": {},
   "outputs": [],
   "source": [
    "array = MA.masked_equal(array,1)"
   ]
  },
  {
   "cell_type": "code",
   "execution_count": 45,
   "id": "e4a859fa",
   "metadata": {},
   "outputs": [
    {
     "data": {
      "text/plain": [
       "masked_array(\n",
       "  data=[[0, 0, 0, 0],\n",
       "        [0, 0, 0, 0],\n",
       "        [0, 0, --, 0],\n",
       "        [0, 0, 0, 0]],\n",
       "  mask=[[False, False, False, False],\n",
       "        [False, False, False, False],\n",
       "        [False, False,  True, False],\n",
       "        [False, False, False, False]],\n",
       "  fill_value=1)"
      ]
     },
     "execution_count": 45,
     "metadata": {},
     "output_type": "execute_result"
    }
   ],
   "source": [
    "array"
   ]
  },
  {
   "cell_type": "code",
   "execution_count": 47,
   "id": "bd58c1fe",
   "metadata": {},
   "outputs": [],
   "source": [
    "masked_rows = MA.mask_rows(array)"
   ]
  },
  {
   "cell_type": "code",
   "execution_count": 48,
   "id": "0aed647e",
   "metadata": {},
   "outputs": [
    {
     "data": {
      "text/plain": [
       "masked_array(\n",
       "  data=[[0, 0, 0, 0],\n",
       "        [0, 0, 0, 0],\n",
       "        [--, --, --, --],\n",
       "        [0, 0, 0, 0]],\n",
       "  mask=[[False, False, False, False],\n",
       "        [False, False, False, False],\n",
       "        [ True,  True,  True,  True],\n",
       "        [False, False, False, False]],\n",
       "  fill_value=1)"
      ]
     },
     "execution_count": 48,
     "metadata": {},
     "output_type": "execute_result"
    }
   ],
   "source": [
    "masked_rows"
   ]
  },
  {
   "cell_type": "markdown",
   "id": "293c252f",
   "metadata": {},
   "source": [
    "\n",
    "\n"
   ]
  }
 ],
 "metadata": {
  "kernelspec": {
   "display_name": "Python 3 (ipykernel)",
   "language": "python",
   "name": "python3"
  },
  "language_info": {
   "codemirror_mode": {
    "name": "ipython",
    "version": 3
   },
   "file_extension": ".py",
   "mimetype": "text/x-python",
   "name": "python",
   "nbconvert_exporter": "python",
   "pygments_lexer": "ipython3",
   "version": "3.11.4"
  }
 },
 "nbformat": 4,
 "nbformat_minor": 5
}
