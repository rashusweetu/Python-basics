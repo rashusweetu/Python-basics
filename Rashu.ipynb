{
 "cells": [
  {
   "cell_type": "code",
   "execution_count": 1,
   "id": "25f8483d",
   "metadata": {},
   "outputs": [
    {
     "data": {
      "text/plain": [
       "str"
      ]
     },
     "execution_count": 1,
     "metadata": {},
     "output_type": "execute_result"
    }
   ],
   "source": [
    "type('a')\n"
   ]
  },
  {
   "cell_type": "code",
   "execution_count": 2,
   "id": "da9cde1e",
   "metadata": {},
   "outputs": [
    {
     "data": {
      "text/plain": [
       "[0, 1, 2, 3, 4, 5, 6, 7, 8, 9]"
      ]
     },
     "execution_count": 2,
     "metadata": {},
     "output_type": "execute_result"
    }
   ],
   "source": [
    "list(range (0,10))"
   ]
  },
  {
   "cell_type": "code",
   "execution_count": 3,
   "id": "3cf29716",
   "metadata": {},
   "outputs": [
    {
     "data": {
      "text/plain": [
       "[3, 5, 7, 9]"
      ]
     },
     "execution_count": 3,
     "metadata": {},
     "output_type": "execute_result"
    }
   ],
   "source": [
    "list(range(3,10,2))"
   ]
  },
  {
   "cell_type": "code",
   "execution_count": 4,
   "id": "a9250cce",
   "metadata": {},
   "outputs": [
    {
     "data": {
      "text/plain": [
       "[10, 9, 8, 7, 6, 5, 4]"
      ]
     },
     "execution_count": 4,
     "metadata": {},
     "output_type": "execute_result"
    }
   ],
   "source": [
    "list (range(10,3,-1))"
   ]
  },
  {
   "cell_type": "code",
   "execution_count": null,
   "id": "de942583",
   "metadata": {},
   "outputs": [],
   "source": [
    "num1 =int(input (\"enter 1st number\"))\n",
    "num2 =int(input(\"enter 2nd number\"))\n",
    "\n",
    "sum =num1+num2\n",
    "pwr =num1**num2\n",
    "\n",
    "print(sum)\n",
    "print(pwr)"
   ]
  },
  {
   "cell_type": "code",
   "execution_count": null,
   "id": "b5a3704e",
   "metadata": {},
   "outputs": [],
   "source": [
    "a=4\n",
    "a**4"
   ]
  },
  {
   "cell_type": "code",
   "execution_count": null,
   "id": "07661a2c",
   "metadata": {},
   "outputs": [],
   "source": [
    "list(\"rashmi\")"
   ]
  },
  {
   "cell_type": "code",
   "execution_count": null,
   "id": "d8aea855",
   "metadata": {},
   "outputs": [],
   "source": [
    "a=list('INDEPENDENCE')"
   ]
  },
  {
   "cell_type": "code",
   "execution_count": null,
   "id": "1dfdbddc",
   "metadata": {},
   "outputs": [],
   "source": [
    "a ## or print(a)"
   ]
  },
  {
   "cell_type": "code",
   "execution_count": null,
   "id": "bf62b742",
   "metadata": {},
   "outputs": [],
   "source": [
    "a = \"hello how are you Ramya\"\n",
    "b = a[::-1]"
   ]
  },
  {
   "cell_type": "code",
   "execution_count": null,
   "id": "45f2993c",
   "metadata": {},
   "outputs": [],
   "source": [
    "b"
   ]
  },
  {
   "cell_type": "code",
   "execution_count": null,
   "id": "312a9f21",
   "metadata": {},
   "outputs": [],
   "source": [
    "a"
   ]
  },
  {
   "cell_type": "code",
   "execution_count": null,
   "id": "09ff93e1",
   "metadata": {},
   "outputs": [],
   "source": [
    "num_list = [2,3,4,5,6,7,8,9,123,13,14,15,16]"
   ]
  },
  {
   "cell_type": "code",
   "execution_count": null,
   "id": "d4defb07",
   "metadata": {},
   "outputs": [],
   "source": [
    "num_list"
   ]
  },
  {
   "cell_type": "code",
   "execution_count": null,
   "id": "a417ffdf",
   "metadata": {},
   "outputs": [],
   "source": [
    "num_list[4]"
   ]
  },
  {
   "cell_type": "code",
   "execution_count": null,
   "id": "78d4bb96",
   "metadata": {},
   "outputs": [],
   "source": [
    "num1 = 10"
   ]
  },
  {
   "cell_type": "code",
   "execution_count": null,
   "id": "32918adc",
   "metadata": {},
   "outputs": [],
   "source": [
    "num2=3"
   ]
  },
  {
   "cell_type": "code",
   "execution_count": null,
   "id": "26ae3799",
   "metadata": {},
   "outputs": [],
   "source": [
    "num1/num2"
   ]
  },
  {
   "cell_type": "code",
   "execution_count": null,
   "id": "ab2dd08a",
   "metadata": {},
   "outputs": [],
   "source": [
    "a = \"Swastik\""
   ]
  },
  {
   "cell_type": "code",
   "execution_count": null,
   "id": "055ec3a6",
   "metadata": {},
   "outputs": [],
   "source": [
    "a(3)"
   ]
  },
  {
   "cell_type": "code",
   "execution_count": null,
   "id": "494e3a9e",
   "metadata": {},
   "outputs": [],
   "source": [
    "len(a)"
   ]
  },
  {
   "cell_type": "code",
   "execution_count": null,
   "id": "9e70addb",
   "metadata": {},
   "outputs": [],
   "source": [
    "a[3] = 'm'"
   ]
  },
  {
   "cell_type": "code",
   "execution_count": null,
   "id": "67fb9cbf",
   "metadata": {},
   "outputs": [],
   "source": [
    "str_to_list=list(a)"
   ]
  },
  {
   "cell_type": "code",
   "execution_count": null,
   "id": "48b4cf7d",
   "metadata": {},
   "outputs": [],
   "source": [
    "str_to_list"
   ]
  },
  {
   "cell_type": "code",
   "execution_count": null,
   "id": "43ac7cdd",
   "metadata": {},
   "outputs": [],
   "source": [
    "str_to_list(3)='m'"
   ]
  },
  {
   "cell_type": "code",
   "execution_count": null,
   "id": "4f9adbd6",
   "metadata": {},
   "outputs": [],
   "source": [
    "str_to_list[3] = 'm'"
   ]
  },
  {
   "cell_type": "code",
   "execution_count": null,
   "id": "684ea5f3",
   "metadata": {},
   "outputs": [],
   "source": [
    "str_to_list"
   ]
  },
  {
   "cell_type": "code",
   "execution_count": null,
   "id": "99b9354c",
   "metadata": {},
   "outputs": [],
   "source": [
    "num_list = [2,3,4,5,6,7,8,9,123,13,14,15,16]"
   ]
  },
  {
   "cell_type": "code",
   "execution_count": null,
   "id": "dc0dae78",
   "metadata": {},
   "outputs": [],
   "source": [
    "num_list"
   ]
  },
  {
   "cell_type": "code",
   "execution_count": null,
   "id": "d9638274",
   "metadata": {},
   "outputs": [],
   "source": [
    "type(num_list)"
   ]
  },
  {
   "cell_type": "code",
   "execution_count": null,
   "id": "ce20d752",
   "metadata": {},
   "outputs": [],
   "source": [
    "a=[]\n",
    "b=[]"
   ]
  },
  {
   "cell_type": "code",
   "execution_count": null,
   "id": "6a478b98",
   "metadata": {},
   "outputs": [],
   "source": [
    "len(num_list)"
   ]
  },
  {
   "cell_type": "code",
   "execution_count": null,
   "id": "51bb4cc1",
   "metadata": {},
   "outputs": [],
   "source": [
    "for i in range (len(num_list)):\n",
    "     if (num_list (i) %2==0):\n",
    "      a.append(num_list[i])\n",
    "      else:\n",
    "       b.append(num_list[i])        \n",
    "                "
   ]
  },
  {
   "cell_type": "code",
   "execution_count": null,
   "id": "dbb1a6a7",
   "metadata": {},
   "outputs": [],
   "source": [
    " i in range(len(num_list)):\n",
    "if (num_list[i] % 2 == 0):\n",
    "a.append(num_list[i])\n",
    "else:\n",
    "b.append(num_list[i])"
   ]
  },
  {
   "cell_type": "code",
   "execution_count": null,
   "id": "780df2c2",
   "metadata": {},
   "outputs": [],
   "source": [
    "for i in range(len(num_list)):\n",
    "if (num_list[i] % 2 == 0):\n",
    "a.append(num_list[i])\n",
    "else:\n",
    "b.append(num_list[i])"
   ]
  },
  {
   "cell_type": "code",
   "execution_count": null,
   "id": "dc49497c",
   "metadata": {},
   "outputs": [],
   "source": [
    "for i in num_list:\n",
    "if (i % 2 == 0):\n",
    "c.append(i)\n",
    "else:\n",
    "d.append(i)"
   ]
  },
  {
   "cell_type": "code",
   "execution_count": null,
   "id": "9ff0a6fe",
   "metadata": {},
   "outputs": [],
   "source": [
    "for i in range(len(num_list)):\n",
    "    if num_list[i] % 2 == 0:\n",
    "        a.append(num_list[i])\n",
    "    else:\n",
    "        b.append(num_list[i])"
   ]
  },
  {
   "cell_type": "code",
   "execution_count": null,
   "id": "023fe001",
   "metadata": {},
   "outputs": [],
   "source": [
    "a,b"
   ]
  },
  {
   "cell_type": "code",
   "execution_count": null,
   "id": "24f3944d",
   "metadata": {},
   "outputs": [],
   "source": [
    "text= \"seven wonders\""
   ]
  },
  {
   "cell_type": "code",
   "execution_count": null,
   "id": "d5bbf8c3",
   "metadata": {},
   "outputs": [],
   "source": [
    "text.centre(20,'#')"
   ]
  },
  {
   "cell_type": "code",
   "execution_count": null,
   "id": "947ee598",
   "metadata": {},
   "outputs": [],
   "source": [
    "text = \"Hello\"\n",
    "centered_text = text.center(20, '#')\n",
    "print(centered_text)"
   ]
  },
  {
   "cell_type": "code",
   "execution_count": null,
   "id": "2ee05971",
   "metadata": {},
   "outputs": [],
   "source": [
    "months = {'january':31, 'february':28,'march':31,'april':30,'may':31,'june':30,'july':31,'august':31, \n",
    "          'september':30,'october':31,'november':30,'december':31}\n",
    "\n",
    "month_name = input(\"enter the month\\n\")\n",
    "print(month_name, \"has\", months[month_name], \"days.\")\n",
    "\n",
    "\n",
    "print(\"\\n The keys in alphabetical order:\\n\")\n",
    "for key in sorted (months.keys()):\n",
    "     print(key)"
   ]
  },
  {
   "cell_type": "code",
   "execution_count": null,
   "id": "463d3594",
   "metadata": {},
   "outputs": [],
   "source": [
    "a=input(\"enter your age\")"
   ]
  },
  {
   "cell_type": "code",
   "execution_count": null,
   "id": "f0f65a5e",
   "metadata": {},
   "outputs": [],
   "source": [
    "a.isdigit()"
   ]
  },
  {
   "cell_type": "code",
   "execution_count": null,
   "id": "1ebe890a",
   "metadata": {},
   "outputs": [],
   "source": [
    "a=1234"
   ]
  },
  {
   "cell_type": "code",
   "execution_count": null,
   "id": "2f7aa9d1",
   "metadata": {},
   "outputs": [],
   "source": [
    "type(a)"
   ]
  },
  {
   "cell_type": "code",
   "execution_count": null,
   "id": "4fc5e29f",
   "metadata": {},
   "outputs": [],
   "source": [
    "names = (int)input(\"enter the name\")"
   ]
  }
 ],
 "metadata": {
  "kernelspec": {
   "display_name": "Python 3 (ipykernel)",
   "language": "python",
   "name": "python3"
  },
  "language_info": {
   "codemirror_mode": {
    "name": "ipython",
    "version": 3
   },
   "file_extension": ".py",
   "mimetype": "text/x-python",
   "name": "python",
   "nbconvert_exporter": "python",
   "pygments_lexer": "ipython3",
   "version": "3.11.4"
  }
 },
 "nbformat": 4,
 "nbformat_minor": 5
}
